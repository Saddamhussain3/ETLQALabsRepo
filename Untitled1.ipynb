{
 "cells": [
  {
   "cell_type": "code",
   "execution_count": 37,
   "id": "348dc295-c844-4b95-8135-70966c6ba7c3",
   "metadata": {},
   "outputs": [],
   "source": [
    "import pandas as pd"
   ]
  },
  {
   "cell_type": "code",
   "execution_count": 38,
   "id": "e655e88f-efa6-45ba-a7a6-1b01c6e6f7bf",
   "metadata": {},
   "outputs": [],
   "source": [
    "df=pd.read_csv('nifty.csv')"
   ]
  },
  {
   "cell_type": "code",
   "execution_count": 21,
   "id": "8e45f628-086f-4907-8432-755f3d958332",
   "metadata": {},
   "outputs": [],
   "source": [
    "#df=pd.read_csv('nifty.csv',header=1)"
   ]
  },
  {
   "cell_type": "code",
   "execution_count": 24,
   "id": "36f4eecd-e628-4470-bef9-7e3b413e508e",
   "metadata": {},
   "outputs": [],
   "source": [
    "#df=pd.read_csv('nifty.csv',header=5)"
   ]
  },
  {
   "cell_type": "code",
   "execution_count": 25,
   "id": "783635f2-19cb-4095-a706-84a345229642",
   "metadata": {},
   "outputs": [],
   "source": [
    "#df=pd.read_csv('nifty.csv',header=1)"
   ]
  },
  {
   "cell_type": "code",
   "execution_count": 26,
   "id": "7f9eadcb-71de-4a20-ac2a-64fd2abb0fb9",
   "metadata": {},
   "outputs": [
    {
     "data": {
      "text/plain": [
       "0"
      ]
     },
     "execution_count": 26,
     "metadata": {},
     "output_type": "execute_result"
    }
   ],
   "source": [
    "0"
   ]
  },
  {
   "cell_type": "code",
   "execution_count": 28,
   "id": "def45418-667e-4721-96df-1b8d55696413",
   "metadata": {},
   "outputs": [
    {
     "data": {
      "text/plain": [
       "5"
      ]
     },
     "execution_count": 28,
     "metadata": {},
     "output_type": "execute_result"
    }
   ],
   "source": [
    "5"
   ]
  },
  {
   "cell_type": "code",
   "execution_count": 39,
   "id": "30013f81-924e-4fde-a9a1-d5cc34b5599b",
   "metadata": {},
   "outputs": [],
   "source": [
    "df=pd.read_csv('nifty.csv',skiprows=10,nrows=10)"
   ]
  },
  {
   "cell_type": "code",
   "execution_count": 43,
   "id": "40c88fb7-832a-40e4-bc8e-51e28ae86187",
   "metadata": {},
   "outputs": [
    {
     "data": {
      "text/html": [
       "<div>\n",
       "<style scoped>\n",
       "    .dataframe tbody tr th:only-of-type {\n",
       "        vertical-align: middle;\n",
       "    }\n",
       "\n",
       "    .dataframe tbody tr th {\n",
       "        vertical-align: top;\n",
       "    }\n",
       "\n",
       "    .dataframe thead th {\n",
       "        text-align: right;\n",
       "    }\n",
       "</style>\n",
       "<table border=\"1\" class=\"dataframe\">\n",
       "  <thead>\n",
       "    <tr style=\"text-align: right;\">\n",
       "      <th></th>\n",
       "      <th>Bharat Petroleum Corporation Ltd.</th>\n",
       "      <th>Oil Gas &amp; Consumable Fuels</th>\n",
       "      <th>BPCL</th>\n",
       "      <th>EQ</th>\n",
       "      <th>INE029A01011</th>\n",
       "    </tr>\n",
       "  </thead>\n",
       "  <tbody>\n",
       "    <tr>\n",
       "      <th>0</th>\n",
       "      <td>Bharti Airtel Ltd.</td>\n",
       "      <td>Telecommunication</td>\n",
       "      <td>BHARTIARTL</td>\n",
       "      <td>EQ</td>\n",
       "      <td>INE397D01024</td>\n",
       "    </tr>\n",
       "    <tr>\n",
       "      <th>1</th>\n",
       "      <td>Britannia Industries Ltd.</td>\n",
       "      <td>Fast Moving Consumer Goods</td>\n",
       "      <td>BRITANNIA</td>\n",
       "      <td>EQ</td>\n",
       "      <td>INE216A01030</td>\n",
       "    </tr>\n",
       "    <tr>\n",
       "      <th>2</th>\n",
       "      <td>Cipla Ltd.</td>\n",
       "      <td>Healthcare</td>\n",
       "      <td>CIPLA</td>\n",
       "      <td>EQ</td>\n",
       "      <td>INE059A01026</td>\n",
       "    </tr>\n",
       "    <tr>\n",
       "      <th>3</th>\n",
       "      <td>Coal India Ltd.</td>\n",
       "      <td>Oil Gas &amp; Consumable Fuels</td>\n",
       "      <td>COALINDIA</td>\n",
       "      <td>EQ</td>\n",
       "      <td>INE522F01014</td>\n",
       "    </tr>\n",
       "    <tr>\n",
       "      <th>4</th>\n",
       "      <td>Dr. Reddy's Laboratories Ltd.</td>\n",
       "      <td>Healthcare</td>\n",
       "      <td>DRREDDY</td>\n",
       "      <td>EQ</td>\n",
       "      <td>INE089A01031</td>\n",
       "    </tr>\n",
       "    <tr>\n",
       "      <th>5</th>\n",
       "      <td>Eicher Motors Ltd.</td>\n",
       "      <td>Automobile and Auto Components</td>\n",
       "      <td>EICHERMOT</td>\n",
       "      <td>EQ</td>\n",
       "      <td>INE066A01021</td>\n",
       "    </tr>\n",
       "    <tr>\n",
       "      <th>6</th>\n",
       "      <td>Grasim Industries Ltd.</td>\n",
       "      <td>Construction Materials</td>\n",
       "      <td>GRASIM</td>\n",
       "      <td>EQ</td>\n",
       "      <td>INE047A01021</td>\n",
       "    </tr>\n",
       "    <tr>\n",
       "      <th>7</th>\n",
       "      <td>HCL Technologies Ltd.</td>\n",
       "      <td>Information Technology</td>\n",
       "      <td>HCLTECH</td>\n",
       "      <td>EQ</td>\n",
       "      <td>INE860A01027</td>\n",
       "    </tr>\n",
       "    <tr>\n",
       "      <th>8</th>\n",
       "      <td>HDFC Bank Ltd.</td>\n",
       "      <td>Financial Services</td>\n",
       "      <td>HDFCBANK</td>\n",
       "      <td>EQ</td>\n",
       "      <td>INE040A01034</td>\n",
       "    </tr>\n",
       "    <tr>\n",
       "      <th>9</th>\n",
       "      <td>HDFC Life Insurance Company Ltd.</td>\n",
       "      <td>Financial Services</td>\n",
       "      <td>HDFCLIFE</td>\n",
       "      <td>EQ</td>\n",
       "      <td>INE795G01014</td>\n",
       "    </tr>\n",
       "  </tbody>\n",
       "</table>\n",
       "</div>"
      ],
      "text/plain": [
       "  Bharat Petroleum Corporation Ltd.      Oil Gas & Consumable Fuels  \\\n",
       "0                Bharti Airtel Ltd.               Telecommunication   \n",
       "1         Britannia Industries Ltd.      Fast Moving Consumer Goods   \n",
       "2                        Cipla Ltd.                      Healthcare   \n",
       "3                   Coal India Ltd.      Oil Gas & Consumable Fuels   \n",
       "4     Dr. Reddy's Laboratories Ltd.                      Healthcare   \n",
       "5                Eicher Motors Ltd.  Automobile and Auto Components   \n",
       "6            Grasim Industries Ltd.          Construction Materials   \n",
       "7             HCL Technologies Ltd.          Information Technology   \n",
       "8                    HDFC Bank Ltd.              Financial Services   \n",
       "9  HDFC Life Insurance Company Ltd.              Financial Services   \n",
       "\n",
       "         BPCL  EQ  INE029A01011  \n",
       "0  BHARTIARTL  EQ  INE397D01024  \n",
       "1   BRITANNIA  EQ  INE216A01030  \n",
       "2       CIPLA  EQ  INE059A01026  \n",
       "3   COALINDIA  EQ  INE522F01014  \n",
       "4     DRREDDY  EQ  INE089A01031  \n",
       "5   EICHERMOT  EQ  INE066A01021  \n",
       "6      GRASIM  EQ  INE047A01021  \n",
       "7     HCLTECH  EQ  INE860A01027  \n",
       "8    HDFCBANK  EQ  INE040A01034  \n",
       "9    HDFCLIFE  EQ  INE795G01014  "
      ]
     },
     "execution_count": 43,
     "metadata": {},
     "output_type": "execute_result"
    }
   ],
   "source": [
    "df"
   ]
  },
  {
   "cell_type": "code",
   "execution_count": null,
   "id": "8b87f298-7a2a-4321-8e0a-0d308dba5f08",
   "metadata": {},
   "outputs": [],
   "source": []
  }
 ],
 "metadata": {
  "kernelspec": {
   "display_name": "Python 3 (ipykernel)",
   "language": "python",
   "name": "python3"
  },
  "language_info": {
   "codemirror_mode": {
    "name": "ipython",
    "version": 3
   },
   "file_extension": ".py",
   "mimetype": "text/x-python",
   "name": "python",
   "nbconvert_exporter": "python",
   "pygments_lexer": "ipython3",
   "version": "3.13.0"
  }
 },
 "nbformat": 4,
 "nbformat_minor": 5
}
