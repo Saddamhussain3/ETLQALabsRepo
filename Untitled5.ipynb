{
 "cells": [
  {
   "cell_type": "code",
   "execution_count": 1,
   "id": "8efb5b6e-f239-432a-a1a4-5de481a09b5e",
   "metadata": {},
   "outputs": [],
   "source": [
    "import pandas as pd"
   ]
  },
  {
   "cell_type": "code",
   "execution_count": 2,
   "id": "9b2a6221-6039-4dd3-8ec9-0c65f5e87fbc",
   "metadata": {},
   "outputs": [],
   "source": [
    "data={'A':[2,1,3,2],'B':[5,6,7,4]}"
   ]
  },
  {
   "cell_type": "code",
   "execution_count": 13,
   "id": "258483d4-bf22-46f1-9dfb-2aa990260477",
   "metadata": {},
   "outputs": [],
   "source": [
    "df=pd.DataFrame(data)"
   ]
  },
  {
   "cell_type": "code",
   "execution_count": 14,
   "id": "0dd0f733-dfa6-40f9-aa78-bbcc9f347e9d",
   "metadata": {},
   "outputs": [
    {
     "name": "stdout",
     "output_type": "stream",
     "text": [
      "   A  B\n",
      "0  2  5\n",
      "1  1  6\n",
      "2  3  7\n",
      "3  2  4\n"
     ]
    }
   ],
   "source": [
    "print(df)"
   ]
  },
  {
   "cell_type": "raw",
   "id": "01d5f506-e40e-4975-816c-62d7d627ce07",
   "metadata": {},
   "source": []
  }
 ],
 "metadata": {
  "kernelspec": {
   "display_name": "Python 3 (ipykernel)",
   "language": "python",
   "name": "python3"
  },
  "language_info": {
   "codemirror_mode": {
    "name": "ipython",
    "version": 3
   },
   "file_extension": ".py",
   "mimetype": "text/x-python",
   "name": "python",
   "nbconvert_exporter": "python",
   "pygments_lexer": "ipython3",
   "version": "3.13.0"
  }
 },
 "nbformat": 4,
 "nbformat_minor": 5
}
