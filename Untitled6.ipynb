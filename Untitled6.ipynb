{
 "cells": [
  {
   "cell_type": "code",
   "execution_count": 1,
   "id": "6394afcf-f480-4ab3-a2e0-d25c61b2d90c",
   "metadata": {},
   "outputs": [],
   "source": [
    "import pandas as pd"
   ]
  },
  {
   "cell_type": "code",
   "execution_count": 2,
   "id": "7aef0feb-4176-4e7a-be21-e674fa1f7baa",
   "metadata": {},
   "outputs": [],
   "source": [
    " data = {'Category': ['A', 'B', 'A', 'B', 'A'],'Values': [10, 20, 30, 40, 50]}"
   ]
  },
  {
   "cell_type": "code",
   "execution_count": 3,
   "id": "61447e66-ecd0-4620-b3f1-403025ca7b0a",
   "metadata": {},
   "outputs": [],
   "source": [
    " df = pd.DataFrame(data)"
   ]
  },
  {
   "cell_type": "code",
   "execution_count": 4,
   "id": "fbb20f65-9144-4b64-82bb-4c97bd16688c",
   "metadata": {},
   "outputs": [],
   "source": [
    "grouped = df.groupby('Category')['Values'].sum()"
   ]
  },
  {
   "cell_type": "code",
   "execution_count": 5,
   "id": "e4e7a019-b455-4d01-b879-a07737d6aa00",
   "metadata": {},
   "outputs": [
    {
     "name": "stdout",
     "output_type": "stream",
     "text": [
      "Category\n",
      "A    90\n",
      "B    60\n",
      "Name: Values, dtype: int64\n"
     ]
    }
   ],
   "source": [
    "print(grouped)"
   ]
  },
  {
   "cell_type": "code",
   "execution_count": null,
   "id": "1bce1d93-0d8c-4039-ba1d-cd43b129d009",
   "metadata": {},
   "outputs": [],
   "source": []
  }
 ],
 "metadata": {
  "kernelspec": {
   "display_name": "Python 3 (ipykernel)",
   "language": "python",
   "name": "python3"
  },
  "language_info": {
   "codemirror_mode": {
    "name": "ipython",
    "version": 3
   },
   "file_extension": ".py",
   "mimetype": "text/x-python",
   "name": "python",
   "nbconvert_exporter": "python",
   "pygments_lexer": "ipython3",
   "version": "3.13.0"
  }
 },
 "nbformat": 4,
 "nbformat_minor": 5
}
